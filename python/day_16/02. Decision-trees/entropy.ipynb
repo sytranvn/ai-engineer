{
 "cells": [
  {
   "cell_type": "code",
   "execution_count": 1,
   "metadata": {},
   "outputs": [
    {
     "name": "stdout",
     "output_type": "stream",
     "text": [
      "0.863120568566631\n",
      "1.3346791410515946\n"
     ]
    }
   ],
   "source": [
    "import numpy as np\n",
    "\n",
    "\n",
    "# This function calculates entropy on two variables\n",
    "def calculateTwoClassEntropy(n, m):\n",
    "    return -(m / (m + n)) * np.log2(m / (m + n)) - (n / (m + n)) * np.log2(n / (m + n))\n",
    "\n",
    "\n",
    "# This function calculates entropy on many variables\n",
    "def calculateMultiClassEntropy(P):\n",
    "    entropy = 0\n",
    "    # p1 = m / (m + n)\n",
    "    # p2 = n / (m + n)\n",
    "    for i in range(len(P)):\n",
    "        p_i = P[i] / sum(P)\n",
    "        entropy += p_i * np.log2(p_i)\n",
    "    return -1 * entropy\n",
    "\n",
    "\n",
    "print(calculateTwoClassEntropy(4, 10))\n",
    "\n",
    "print(calculateMultiClassEntropy([8, 3, 2]))"
   ]
  },
  {
   "cell_type": "code",
   "execution_count": null,
   "metadata": {},
   "outputs": [],
   "source": []
  }
 ],
 "metadata": {
  "kernelspec": {
   "display_name": "Python 3",
   "language": "python",
   "name": "python3"
  },
  "language_info": {
   "codemirror_mode": {
    "name": "ipython",
    "version": 3
   },
   "file_extension": ".py",
   "mimetype": "text/x-python",
   "name": "python",
   "nbconvert_exporter": "python",
   "pygments_lexer": "ipython3",
   "version": "3.6.7"
  }
 },
 "nbformat": 4,
 "nbformat_minor": 2
}
