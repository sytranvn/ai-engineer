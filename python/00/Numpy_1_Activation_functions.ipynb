{
  "cells": [
    {
      "cell_type": "markdown",
      "metadata": {
        "id": "view-in-github",
        "colab_type": "text"
      },
      "source": [
        "<a href=\"https://colab.research.google.com/github/sytranvn/ai-engineer/blob/master/python/00/Numpy_1_Activation_functions.ipynb\" target=\"_parent\"><img src=\"https://colab.research.google.com/assets/colab-badge.svg\" alt=\"Open In Colab\"/></a>"
      ]
    },
    {
      "cell_type": "code",
      "execution_count": null,
      "metadata": {
        "id": "-g-3OJ0a9DpY"
      },
      "outputs": [],
      "source": [
        "import numpy as np"
      ]
    },
    {
      "cell_type": "code",
      "execution_count": null,
      "metadata": {
        "id": "VElcG0A19Dpb"
      },
      "outputs": [],
      "source": [
        "# Vector is 1d array\n",
        "x = np.array([2, 3, 4])"
      ]
    },
    {
      "cell_type": "markdown",
      "metadata": {
        "id": "ZNoD10sA9Dpd"
      },
      "source": [
        "Vector is 1d array"
      ]
    },
    {
      "cell_type": "code",
      "execution_count": null,
      "metadata": {
        "id": "68bO920U9Dpe"
      },
      "outputs": [],
      "source": [
        "#help(np.array)"
      ]
    },
    {
      "cell_type": "markdown",
      "metadata": {
        "id": "I_npz5nC9Dpe"
      },
      "source": [
        "### Type of array"
      ]
    },
    {
      "cell_type": "markdown",
      "metadata": {
        "id": "zImnUfmM9Dpf"
      },
      "source": [
        "Type"
      ]
    },
    {
      "cell_type": "code",
      "execution_count": null,
      "metadata": {
        "id": "YE8ybGe29Dpg",
        "outputId": "45c1a79d-107c-430e-bf96-851da62e8e73",
        "colab": {
          "base_uri": "https://localhost:8080/"
        }
      },
      "outputs": [
        {
          "output_type": "stream",
          "name": "stdout",
          "text": [
            "<class 'numpy.int64'>\n"
          ]
        }
      ],
      "source": [
        "a = np.array([2, 3])\n",
        "print(type(a[0]))"
      ]
    },
    {
      "cell_type": "markdown",
      "metadata": {
        "id": "Gbmb9mdB9Dpg"
      },
      "source": [
        "interger: numpy.int64"
      ]
    },
    {
      "cell_type": "code",
      "execution_count": null,
      "metadata": {
        "id": "X8iZviW-9Dph",
        "outputId": "d61c16e8-8d57-48eb-9885-1ffe6600f324",
        "colab": {
          "base_uri": "https://localhost:8080/"
        }
      },
      "outputs": [
        {
          "output_type": "stream",
          "name": "stdout",
          "text": [
            "<class 'numpy.float64'>\n"
          ]
        }
      ],
      "source": [
        "a = np.array([1.0, 2.0])\n",
        "print(type(a[0]))"
      ]
    },
    {
      "cell_type": "markdown",
      "metadata": {
        "id": "b4PYdVp59Dph"
      },
      "source": [
        "We can also convert type to float: numpy.float64"
      ]
    },
    {
      "cell_type": "code",
      "execution_count": null,
      "metadata": {
        "id": "Pm8OQHBA9Dpi",
        "outputId": "0185b696-f409-4add-c79d-127c94d9b5ee",
        "colab": {
          "base_uri": "https://localhost:8080/"
        }
      },
      "outputs": [
        {
          "output_type": "stream",
          "name": "stdout",
          "text": [
            "<class 'numpy.float64'>\n"
          ]
        }
      ],
      "source": [
        "a = np.array([1, 2], dtype =  np.float64)\n",
        "print(type(a[0]))"
      ]
    },
    {
      "cell_type": "markdown",
      "metadata": {
        "id": "8JrlVUam9Dpi"
      },
      "source": [
        "### Special 1d array"
      ]
    },
    {
      "cell_type": "code",
      "execution_count": null,
      "metadata": {
        "id": "woONLLcI9Dpj",
        "outputId": "8a1a98de-f90f-49e3-8b63-33668dfb7e53",
        "colab": {
          "base_uri": "https://localhost:8080/"
        }
      },
      "outputs": [
        {
          "output_type": "execute_result",
          "data": {
            "text/plain": [
              "array([0., 0., 0.])"
            ]
          },
          "metadata": {},
          "execution_count": 7
        }
      ],
      "source": [
        "np.zeros(3)"
      ]
    },
    {
      "cell_type": "code",
      "execution_count": null,
      "metadata": {
        "id": "w2dV1ncu9Dpj",
        "outputId": "998910af-7d76-40ad-d004-0709a9a541cc",
        "colab": {
          "base_uri": "https://localhost:8080/"
        }
      },
      "outputs": [
        {
          "output_type": "execute_result",
          "data": {
            "text/plain": [
              "array([1., 1., 1., 1., 1.])"
            ]
          },
          "metadata": {},
          "execution_count": 8
        }
      ],
      "source": [
        "np.ones(5)"
      ]
    },
    {
      "cell_type": "markdown",
      "metadata": {
        "id": "bhsIhH2z9Dpj"
      },
      "source": [
        "zeros_like and ones_like array"
      ]
    },
    {
      "cell_type": "code",
      "execution_count": null,
      "metadata": {
        "id": "R-lPNH9D9Dpk",
        "outputId": "1c8bf612-ca5b-424e-c7c4-a1eca5bcb48a",
        "colab": {
          "base_uri": "https://localhost:8080/"
        }
      },
      "outputs": [
        {
          "output_type": "execute_result",
          "data": {
            "text/plain": [
              "array([0, 0, 0])"
            ]
          },
          "metadata": {},
          "execution_count": 9
        }
      ],
      "source": [
        "x = np.array([1, 2, 3])\n",
        "np.zeros_like(x)"
      ]
    },
    {
      "cell_type": "code",
      "execution_count": null,
      "metadata": {
        "id": "FaPcZkOc9Dpk",
        "outputId": "064ed6dc-6c8e-42e5-b769-377e271b14f0",
        "colab": {
          "base_uri": "https://localhost:8080/"
        }
      },
      "outputs": [
        {
          "output_type": "execute_result",
          "data": {
            "text/plain": [
              "array([1, 1, 1])"
            ]
          },
          "metadata": {},
          "execution_count": 10
        }
      ],
      "source": [
        "np.ones_like(x)"
      ]
    },
    {
      "cell_type": "markdown",
      "metadata": {
        "id": "m3WjuBRj9Dpk"
      },
      "source": [
        "### Addition"
      ]
    },
    {
      "cell_type": "markdown",
      "metadata": {
        "id": "Vm0QRDL09Dpk"
      },
      "source": [
        "To create an array intergers from 0 tp n -1 (n numbers) we use np.arange(n) :"
      ]
    },
    {
      "cell_type": "code",
      "execution_count": null,
      "metadata": {
        "id": "HVQ_Js4D9Dpl",
        "outputId": "de62b7b3-8efd-4b21-fd60-6dffa1fd77e3",
        "colab": {
          "base_uri": "https://localhost:8080/"
        }
      },
      "outputs": [
        {
          "output_type": "execute_result",
          "data": {
            "text/plain": [
              "array([0, 1, 2, 3, 4])"
            ]
          },
          "metadata": {},
          "execution_count": 11
        }
      ],
      "source": [
        "np.arange(5)"
      ]
    },
    {
      "cell_type": "markdown",
      "metadata": {
        "id": "nS3f1dz79Dpl"
      },
      "source": [
        "To create an array intergers from m tp n -1, we use np.arange(m, n):"
      ]
    },
    {
      "cell_type": "code",
      "execution_count": null,
      "metadata": {
        "id": "7z8pnp2E9Dpl",
        "outputId": "0b16af7d-6128-461a-a9c9-5fe6b85e16da",
        "colab": {
          "base_uri": "https://localhost:8080/"
        }
      },
      "outputs": [
        {
          "output_type": "execute_result",
          "data": {
            "text/plain": [
              "array([3, 4, 5])"
            ]
          },
          "metadata": {},
          "execution_count": 12
        }
      ],
      "source": [
        "np.arange(3, 6)"
      ]
    },
    {
      "cell_type": "markdown",
      "metadata": {
        "id": "KbD5o_rR9Dpl"
      },
      "source": [
        "To create array with step, except the last number"
      ]
    },
    {
      "cell_type": "code",
      "execution_count": null,
      "metadata": {
        "id": "tew9mZBF9Dpl",
        "outputId": "439cdcbc-3d20-4956-db89-f021f9f44417",
        "colab": {
          "base_uri": "https://localhost:8080/"
        }
      },
      "outputs": [
        {
          "output_type": "execute_result",
          "data": {
            "text/plain": [
              "array([0. , 0.1, 0.2, 0.3, 0.4, 0.5, 0.6, 0.7, 0.8, 0.9])"
            ]
          },
          "metadata": {},
          "execution_count": 13
        }
      ],
      "source": [
        "np.arange(0, 1, 0.1)"
      ]
    },
    {
      "cell_type": "markdown",
      "metadata": {
        "id": "1vVTSoQe9Dpm"
      },
      "source": [
        "if step d < 0"
      ]
    },
    {
      "cell_type": "code",
      "execution_count": null,
      "metadata": {
        "id": "hQ--azdi9Dpm",
        "outputId": "cb5a5c1b-2a0c-44bc-cc00-95694a1e2ca5",
        "colab": {
          "base_uri": "https://localhost:8080/"
        }
      },
      "outputs": [
        {
          "output_type": "execute_result",
          "data": {
            "text/plain": [
              "array([5. , 4.1, 3.2, 2.3, 1.4])"
            ]
          },
          "metadata": {},
          "execution_count": 14
        }
      ],
      "source": [
        "np.arange(5, 1, -0.9)"
      ]
    },
    {
      "cell_type": "code",
      "execution_count": null,
      "metadata": {
        "id": "UEFq5uc59Dpm",
        "outputId": "2c22eed8-cc5e-409d-cb1f-e299bc3e9ce4",
        "colab": {
          "base_uri": "https://localhost:8080/"
        }
      },
      "outputs": [
        {
          "output_type": "execute_result",
          "data": {
            "text/plain": [
              "array([], dtype=float64)"
            ]
          },
          "metadata": {},
          "execution_count": 15
        }
      ],
      "source": [
        "np.arange(1, 5, -0.9)"
      ]
    },
    {
      "cell_type": "markdown",
      "metadata": {
        "id": "6c-BNfZ09Dpm"
      },
      "source": [
        "### Some more examples"
      ]
    },
    {
      "cell_type": "code",
      "execution_count": null,
      "metadata": {
        "id": "QKcsNu5o9Dpm"
      },
      "outputs": [],
      "source": [
        "a = np.arange(0, 11)"
      ]
    },
    {
      "cell_type": "code",
      "execution_count": null,
      "metadata": {
        "id": "VBC0r_qy9Dpm",
        "outputId": "98326122-ce55-4c43-a32e-932c18109b90",
        "colab": {
          "base_uri": "https://localhost:8080/"
        }
      },
      "outputs": [
        {
          "output_type": "execute_result",
          "data": {
            "text/plain": [
              "array([ 0,  1,  2,  3,  4,  5,  6,  7,  8,  9, 10])"
            ]
          },
          "metadata": {},
          "execution_count": 17
        }
      ],
      "source": [
        "a"
      ]
    },
    {
      "cell_type": "code",
      "execution_count": null,
      "metadata": {
        "id": "FVCAllAE9Dpm"
      },
      "outputs": [],
      "source": [
        "b = 2 ** a"
      ]
    },
    {
      "cell_type": "code",
      "execution_count": null,
      "metadata": {
        "id": "aMB2ENXl9Dpn",
        "outputId": "242f6680-7e9f-4d78-fff0-b53e15c6a0d4",
        "colab": {
          "base_uri": "https://localhost:8080/"
        }
      },
      "outputs": [
        {
          "output_type": "execute_result",
          "data": {
            "text/plain": [
              "array([   1,    2,    4,    8,   16,   32,   64,  128,  256,  512, 1024])"
            ]
          },
          "metadata": {},
          "execution_count": 19
        }
      ],
      "source": [
        "b"
      ]
    },
    {
      "cell_type": "code",
      "execution_count": null,
      "metadata": {
        "id": "zupeMKuB9Dpn"
      },
      "outputs": [],
      "source": [
        "a = np.ones(10)"
      ]
    },
    {
      "cell_type": "code",
      "execution_count": null,
      "metadata": {
        "id": "Sc8_bjmN9Dpn"
      },
      "outputs": [],
      "source": [
        "b = 3 * a"
      ]
    },
    {
      "cell_type": "code",
      "execution_count": null,
      "metadata": {
        "id": "AEqqi7lA9Dpn",
        "outputId": "e59a4b27-2953-4f20-c646-ea613688c8b7",
        "colab": {
          "base_uri": "https://localhost:8080/"
        }
      },
      "outputs": [
        {
          "output_type": "execute_result",
          "data": {
            "text/plain": [
              "array([3., 3., 3., 3., 3., 3., 3., 3., 3., 3.])"
            ]
          },
          "metadata": {},
          "execution_count": 22
        }
      ],
      "source": [
        "b"
      ]
    },
    {
      "cell_type": "code",
      "execution_count": null,
      "metadata": {
        "id": "3r7eGX689Dpn"
      },
      "outputs": [],
      "source": [
        "b[9] = 1.5"
      ]
    },
    {
      "cell_type": "code",
      "execution_count": null,
      "metadata": {
        "id": "F_hfhC8I9Dpn",
        "outputId": "27638604-d186-4e69-e529-ae366fbfb801",
        "colab": {
          "base_uri": "https://localhost:8080/"
        }
      },
      "outputs": [
        {
          "output_type": "execute_result",
          "data": {
            "text/plain": [
              "array([3. , 3. , 3. , 3. , 3. , 3. , 3. , 3. , 3. , 1.5])"
            ]
          },
          "metadata": {},
          "execution_count": 24
        }
      ],
      "source": [
        "b"
      ]
    },
    {
      "cell_type": "markdown",
      "metadata": {
        "id": "vw07Wedt9Dpn"
      },
      "source": [
        "### Access 1d array"
      ]
    },
    {
      "cell_type": "markdown",
      "metadata": {
        "id": "G4eEhYVz9Dpn"
      },
      "source": [
        "to get shape of an array we use numpy.array.shape"
      ]
    },
    {
      "cell_type": "code",
      "execution_count": null,
      "metadata": {
        "id": "2TthHOMP9Dpn"
      },
      "outputs": [],
      "source": [
        "x = np.array([3, 4, 5])"
      ]
    },
    {
      "cell_type": "code",
      "execution_count": null,
      "metadata": {
        "id": "8k1V_wtG9Dpo",
        "outputId": "0f05a1a6-3a3d-4d51-9199-a9050ff80bda",
        "colab": {
          "base_uri": "https://localhost:8080/"
        }
      },
      "outputs": [
        {
          "output_type": "execute_result",
          "data": {
            "text/plain": [
              "(3,)"
            ]
          },
          "metadata": {},
          "execution_count": 26
        }
      ],
      "source": [
        "x.shape"
      ]
    },
    {
      "cell_type": "markdown",
      "metadata": {
        "id": "oYlbyfJV9Dpo"
      },
      "source": [
        "The output is a tuple"
      ]
    },
    {
      "cell_type": "code",
      "execution_count": null,
      "metadata": {
        "id": "EcgYw0Rj9Dpo"
      },
      "outputs": [],
      "source": [
        "d = x.shape[0]"
      ]
    },
    {
      "cell_type": "code",
      "execution_count": null,
      "metadata": {
        "id": "FLiRys5l9Dpo",
        "outputId": "5a0277c3-f039-4125-f398-c5791febba68",
        "colab": {
          "base_uri": "https://localhost:8080/"
        }
      },
      "outputs": [
        {
          "output_type": "execute_result",
          "data": {
            "text/plain": [
              "3"
            ]
          },
          "metadata": {},
          "execution_count": 28
        }
      ],
      "source": [
        "d"
      ]
    },
    {
      "cell_type": "markdown",
      "metadata": {
        "id": "LLTai2X59Dpo"
      },
      "source": [
        "### Get each element"
      ]
    },
    {
      "cell_type": "code",
      "execution_count": null,
      "metadata": {
        "id": "vNpkR6569Dpo"
      },
      "outputs": [],
      "source": [
        "x = np.array([1, 2, 3])"
      ]
    },
    {
      "cell_type": "code",
      "execution_count": null,
      "metadata": {
        "id": "AdBfUUwt9Dpo",
        "outputId": "7105f85d-1134-4aae-8dcb-ea35314d7f70",
        "colab": {
          "base_uri": "https://localhost:8080/"
        }
      },
      "outputs": [
        {
          "output_type": "execute_result",
          "data": {
            "text/plain": [
              "1"
            ]
          },
          "metadata": {},
          "execution_count": 30
        }
      ],
      "source": [
        "x[0]"
      ]
    },
    {
      "cell_type": "markdown",
      "metadata": {
        "id": "axTByt1N9Dpo"
      },
      "source": [
        "-1 index"
      ]
    },
    {
      "cell_type": "code",
      "execution_count": null,
      "metadata": {
        "id": "ptKj3iVW9Dpo",
        "outputId": "1b16c419-decb-452a-a998-a9400ceb7806",
        "colab": {
          "base_uri": "https://localhost:8080/"
        }
      },
      "outputs": [
        {
          "output_type": "stream",
          "name": "stdout",
          "text": [
            "0\n"
          ]
        }
      ],
      "source": [
        "x  = np.array([1, 2, 3])\n",
        "d = x.shape[0]\n",
        "print(x[d-1] - x[-1])"
      ]
    },
    {
      "cell_type": "markdown",
      "metadata": {
        "id": "WnsJImdU9Dpo"
      },
      "source": [
        "### Change element in array"
      ]
    },
    {
      "cell_type": "code",
      "execution_count": null,
      "metadata": {
        "id": "ws0Akqob9Dpo"
      },
      "outputs": [],
      "source": [
        "a = np.array([5, 6, 7])\n",
        "a[0] = 4"
      ]
    },
    {
      "cell_type": "code",
      "execution_count": null,
      "metadata": {
        "id": "RgPBAkdt9Dpp",
        "outputId": "8c9cecf1-dd60-46c8-a2c5-07daba41f460",
        "colab": {
          "base_uri": "https://localhost:8080/"
        }
      },
      "outputs": [
        {
          "output_type": "execute_result",
          "data": {
            "text/plain": [
              "array([4, 6, 7])"
            ]
          },
          "metadata": {},
          "execution_count": 33
        }
      ],
      "source": [
        "a"
      ]
    },
    {
      "cell_type": "markdown",
      "metadata": {
        "id": "Gmiue8aC9Dpp"
      },
      "source": [
        "### Access more elements"
      ]
    },
    {
      "cell_type": "markdown",
      "metadata": {
        "id": "SwkNZjUq9Dpp"
      },
      "source": [
        "### Read"
      ]
    },
    {
      "cell_type": "code",
      "execution_count": null,
      "metadata": {
        "id": "uUAtPPk29Dpp"
      },
      "outputs": [],
      "source": [
        "import numpy as np\n",
        "a = 0.1 * np.arange(10)"
      ]
    },
    {
      "cell_type": "code",
      "execution_count": null,
      "metadata": {
        "id": "2gX2DrvL9Dpp",
        "outputId": "0d15bce1-c2b4-44be-e94c-763fb9043125",
        "colab": {
          "base_uri": "https://localhost:8080/"
        }
      },
      "outputs": [
        {
          "output_type": "execute_result",
          "data": {
            "text/plain": [
              "array([0. , 0.1, 0.2, 0.3, 0.4, 0.5, 0.6, 0.7, 0.8, 0.9])"
            ]
          },
          "metadata": {},
          "execution_count": 35
        }
      ],
      "source": [
        "a"
      ]
    },
    {
      "cell_type": "code",
      "execution_count": null,
      "metadata": {
        "id": "HbH2u7k59Dpp"
      },
      "outputs": [],
      "source": [
        "ids = [1, 3, 4, 8]"
      ]
    },
    {
      "cell_type": "code",
      "execution_count": null,
      "metadata": {
        "id": "eJjsT_3v9Dpp",
        "outputId": "9bb44bca-34c3-4a23-f155-187d82da20a4",
        "colab": {
          "base_uri": "https://localhost:8080/"
        }
      },
      "outputs": [
        {
          "output_type": "execute_result",
          "data": {
            "text/plain": [
              "array([0.1, 0.3, 0.4, 0.8])"
            ]
          },
          "metadata": {},
          "execution_count": 37
        }
      ],
      "source": [
        "a[ids]"
      ]
    },
    {
      "cell_type": "markdown",
      "metadata": {
        "id": "Uf1mdskM9Dpp"
      },
      "source": [
        "ids can also be a range of array"
      ]
    },
    {
      "cell_type": "code",
      "execution_count": null,
      "metadata": {
        "id": "pJ6uswL59Dpp",
        "outputId": "709d8d35-e7ae-48e0-d06c-ff824d26ede5",
        "colab": {
          "base_uri": "https://localhost:8080/"
        }
      },
      "outputs": [
        {
          "output_type": "execute_result",
          "data": {
            "text/plain": [
              "array([0.1, 0.3, 0.5])"
            ]
          },
          "metadata": {},
          "execution_count": 38
        }
      ],
      "source": [
        "np.ids = np.arange(1, 7, 2)\n",
        "a[np.ids]"
      ]
    },
    {
      "cell_type": "code",
      "execution_count": null,
      "metadata": {
        "id": "oFzmYtP_9Dpp",
        "outputId": "8cf5dd7d-341c-4833-8544-45588c65c325",
        "colab": {
          "base_uri": "https://localhost:8080/"
        }
      },
      "outputs": [
        {
          "output_type": "execute_result",
          "data": {
            "text/plain": [
              "array([0. , 0.1, 0.2])"
            ]
          },
          "metadata": {},
          "execution_count": 39
        }
      ],
      "source": [
        "a[:3] "
      ]
    },
    {
      "cell_type": "code",
      "execution_count": null,
      "metadata": {
        "id": "ZaKvxesT9Dpq",
        "outputId": "999011b1-642d-49df-cd97-1f3265119c63",
        "colab": {
          "base_uri": "https://localhost:8080/"
        }
      },
      "outputs": [
        {
          "output_type": "execute_result",
          "data": {
            "text/plain": [
              "array([0.7, 0.8, 0.9])"
            ]
          },
          "metadata": {},
          "execution_count": 40
        }
      ],
      "source": [
        "a[-3:] "
      ]
    },
    {
      "cell_type": "code",
      "execution_count": null,
      "metadata": {
        "id": "f09Gi5LR9Dpq",
        "outputId": "ba74bd3e-b404-47e6-8075-49978a6a5401",
        "colab": {
          "base_uri": "https://localhost:8080/"
        }
      },
      "outputs": [
        {
          "output_type": "execute_result",
          "data": {
            "text/plain": [
              "array([0. , 0.1, 0.2, 0.3, 0.4, 0.5, 0.6])"
            ]
          },
          "metadata": {},
          "execution_count": 41
        }
      ],
      "source": [
        "a[:-3]"
      ]
    },
    {
      "cell_type": "code",
      "execution_count": null,
      "metadata": {
        "id": "NhCqROES9Dpq",
        "outputId": "c90743fb-1648-4b12-9a10-4e4d2207e281",
        "colab": {
          "base_uri": "https://localhost:8080/"
        }
      },
      "outputs": [
        {
          "output_type": "execute_result",
          "data": {
            "text/plain": [
              "array([0.1, 0.2, 0.3])"
            ]
          },
          "metadata": {},
          "execution_count": 42
        }
      ],
      "source": [
        "a[1:4] # return element with indexs 1, 2, 3"
      ]
    },
    {
      "cell_type": "markdown",
      "metadata": {
        "id": "TGFV8dpr9Dpq"
      },
      "source": [
        "### Write"
      ]
    },
    {
      "cell_type": "markdown",
      "metadata": {
        "id": "1-CCfi509Dpq"
      },
      "source": [
        "Can change value of many elements"
      ]
    },
    {
      "cell_type": "code",
      "execution_count": null,
      "metadata": {
        "id": "oQ575P_Q9Dpq",
        "outputId": "039339a5-f6c7-4e4e-f53d-8030f1d39ef8",
        "colab": {
          "base_uri": "https://localhost:8080/"
        }
      },
      "outputs": [
        {
          "output_type": "execute_result",
          "data": {
            "text/plain": [
              "array([0. , 0.1, 0.2, 0.3, 0.4, 0.5, 0.6, 0.7, 0.8, 0.9])"
            ]
          },
          "metadata": {},
          "execution_count": 43
        }
      ],
      "source": [
        "a"
      ]
    },
    {
      "cell_type": "code",
      "execution_count": null,
      "metadata": {
        "id": "5v2JNwco9Dpq"
      },
      "outputs": [],
      "source": [
        "a[[1, 3, 5]] = 1"
      ]
    },
    {
      "cell_type": "code",
      "execution_count": null,
      "metadata": {
        "id": "FdveowWr9Dpq",
        "outputId": "45dda182-e114-4a7c-ed32-4bb8948ccd49",
        "colab": {
          "base_uri": "https://localhost:8080/"
        }
      },
      "outputs": [
        {
          "output_type": "execute_result",
          "data": {
            "text/plain": [
              "array([0. , 1. , 0.2, 1. , 0.4, 1. , 0.6, 0.7, 0.8, 0.9])"
            ]
          },
          "metadata": {},
          "execution_count": 45
        }
      ],
      "source": [
        "a"
      ]
    },
    {
      "cell_type": "code",
      "execution_count": null,
      "metadata": {
        "id": "Az-UPici9Dpq"
      },
      "outputs": [],
      "source": [
        "a[-3:] = np.array([0, -1, -2])"
      ]
    },
    {
      "cell_type": "code",
      "execution_count": null,
      "metadata": {
        "id": "-MJ-t0f19Dpq",
        "outputId": "b43457f0-380e-456f-a1ff-06cbee8df0d6",
        "colab": {
          "base_uri": "https://localhost:8080/"
        }
      },
      "outputs": [
        {
          "output_type": "execute_result",
          "data": {
            "text/plain": [
              "array([ 0. ,  1. ,  0.2,  1. ,  0.4,  1. ,  0.6,  0. , -1. , -2. ])"
            ]
          },
          "metadata": {},
          "execution_count": 47
        }
      ],
      "source": [
        "a"
      ]
    },
    {
      "cell_type": "code",
      "execution_count": null,
      "metadata": {
        "id": "vKky6WX39Dpq",
        "outputId": "fa48e38a-b931-461b-ab35-56af9f09028b",
        "colab": {
          "base_uri": "https://localhost:8080/"
        }
      },
      "outputs": [
        {
          "output_type": "execute_result",
          "data": {
            "text/plain": [
              "array([ 0. ,  0.2,  0.4,  0.6, -1. ])"
            ]
          },
          "metadata": {},
          "execution_count": 48
        }
      ],
      "source": [
        "a[::2] # return all elements with even indexs"
      ]
    },
    {
      "cell_type": "code",
      "execution_count": null,
      "metadata": {
        "id": "Y_w_EZn69Dpq",
        "outputId": "2f73b262-d745-47fe-9df4-5973e4905fe2",
        "colab": {
          "base_uri": "https://localhost:8080/"
        }
      },
      "outputs": [
        {
          "output_type": "execute_result",
          "data": {
            "text/plain": [
              "array([-2. , -1. ,  0. ,  0.6,  1. ,  0.4,  1. ,  0.2,  1. ,  0. ])"
            ]
          },
          "metadata": {},
          "execution_count": 49
        }
      ],
      "source": [
        "a[::-1] # reverse array"
      ]
    },
    {
      "cell_type": "markdown",
      "metadata": {
        "id": "6E8g2aCc9Dpr"
      },
      "source": [
        "### Computation of array"
      ]
    },
    {
      "cell_type": "markdown",
      "metadata": {
        "id": "kO09QAw-9Dpr"
      },
      "source": [
        "Between an array with scalar"
      ]
    },
    {
      "cell_type": "code",
      "execution_count": null,
      "metadata": {
        "id": "1q3h6Cb49Dpr"
      },
      "outputs": [],
      "source": [
        "x = np.array([1, 2,3])\n",
        "a = 3"
      ]
    },
    {
      "cell_type": "code",
      "execution_count": null,
      "metadata": {
        "id": "71yWSMc89Dpr",
        "outputId": "589f3de2-890a-4794-e8cb-f0a8e8177cfc",
        "colab": {
          "base_uri": "https://localhost:8080/"
        }
      },
      "outputs": [
        {
          "output_type": "execute_result",
          "data": {
            "text/plain": [
              "array([4, 5, 6])"
            ]
          },
          "metadata": {},
          "execution_count": 51
        }
      ],
      "source": [
        "x + a"
      ]
    },
    {
      "cell_type": "code",
      "execution_count": null,
      "metadata": {
        "id": "_RHrOmKS9Dpr",
        "outputId": "dabef7f6-ea70-4337-b990-b5017fafe260",
        "colab": {
          "base_uri": "https://localhost:8080/"
        }
      },
      "outputs": [
        {
          "output_type": "execute_result",
          "data": {
            "text/plain": [
              "array([6., 3., 2.])"
            ]
          },
          "metadata": {},
          "execution_count": 52
        }
      ],
      "source": [
        "6 /x"
      ]
    },
    {
      "cell_type": "code",
      "execution_count": null,
      "metadata": {
        "id": "E3g0AQau9Dpr",
        "outputId": "b4d91e58-31dd-480e-988b-50cb65a8b5ac",
        "colab": {
          "base_uri": "https://localhost:8080/"
        }
      },
      "outputs": [
        {
          "output_type": "execute_result",
          "data": {
            "text/plain": [
              "array([ 3,  9, 27])"
            ]
          },
          "metadata": {},
          "execution_count": 53
        }
      ],
      "source": [
        "3 ** x"
      ]
    },
    {
      "cell_type": "markdown",
      "metadata": {
        "id": "Hk0oHYEN9Dpr"
      },
      "source": [
        "It's called broadcasting in python"
      ]
    },
    {
      "cell_type": "markdown",
      "metadata": {
        "id": "0Xa-turn9Dpr"
      },
      "source": [
        "### Computation between two 1d array"
      ]
    },
    {
      "cell_type": "markdown",
      "metadata": {
        "id": "vAwKDtA49Dpr"
      },
      "source": [
        "element-wise."
      ]
    },
    {
      "cell_type": "code",
      "execution_count": null,
      "metadata": {
        "id": "i93oTZLj9Dpr",
        "outputId": "869e93ef-4f92-40e7-b424-e4a820f4f06a",
        "colab": {
          "base_uri": "https://localhost:8080/"
        }
      },
      "outputs": [
        {
          "output_type": "execute_result",
          "data": {
            "text/plain": [
              "array([ 4, 10, 18])"
            ]
          },
          "metadata": {},
          "execution_count": 54
        }
      ],
      "source": [
        "x = np.array([1, 2, 3])\n",
        "y = np.array([4, 5, 6])\n",
        "x * y"
      ]
    },
    {
      "cell_type": "code",
      "execution_count": null,
      "metadata": {
        "id": "exSmUPbG9Dpr",
        "outputId": "03f4c0b8-c417-4143-f315-3e169558ad6b",
        "colab": {
          "base_uri": "https://localhost:8080/"
        }
      },
      "outputs": [
        {
          "output_type": "execute_result",
          "data": {
            "text/plain": [
              "array([  1,  32, 729])"
            ]
          },
          "metadata": {},
          "execution_count": 55
        }
      ],
      "source": [
        "x ** y"
      ]
    },
    {
      "cell_type": "markdown",
      "metadata": {
        "id": "aB-VRezD9Dpr"
      },
      "source": [
        "### Mathematical functions"
      ]
    },
    {
      "cell_type": "markdown",
      "metadata": {
        "id": "0MXgnbic9Dps"
      },
      "source": [
        "Some functions for numpy like: np.abs, np.log, np.exp. np.sin, np.cos. np.tan can apply to each element of array"
      ]
    },
    {
      "cell_type": "code",
      "execution_count": null,
      "metadata": {
        "id": "pwSM43XD9Dps"
      },
      "outputs": [],
      "source": [
        "import numpy as np"
      ]
    },
    {
      "cell_type": "code",
      "execution_count": null,
      "metadata": {
        "id": "vtxcsiXW9Dps",
        "outputId": "548690ba-c788-4e9e-a922-e9d6bc81b023",
        "colab": {
          "base_uri": "https://localhost:8080/"
        }
      },
      "outputs": [
        {
          "output_type": "execute_result",
          "data": {
            "text/plain": [
              "array([ 2.71828183,  7.3890561 , 20.08553692])"
            ]
          },
          "metadata": {},
          "execution_count": 57
        }
      ],
      "source": [
        "x = np.array([1, 2, 3])\n",
        "np.exp(x) # e^ x"
      ]
    },
    {
      "cell_type": "markdown",
      "metadata": {
        "id": "2SvFGkhO9Dps"
      },
      "source": [
        "### Inner product of 2 vectors"
      ]
    },
    {
      "cell_type": "markdown",
      "metadata": {
        "id": "2uBWfQeO9Dps"
      },
      "source": [
        "np.sum(x*y)"
      ]
    },
    {
      "cell_type": "code",
      "execution_count": null,
      "metadata": {
        "id": "3yWt_3Cq9Dps",
        "outputId": "956d1455-121c-4342-ebdd-bcea56721449",
        "colab": {
          "base_uri": "https://localhost:8080/"
        }
      },
      "outputs": [
        {
          "output_type": "stream",
          "name": "stdout",
          "text": [
            "x:  [0 1 2]\n",
            "y:  [1. 1. 1.]\n",
            "[0. 1. 2.]\n"
          ]
        },
        {
          "output_type": "execute_result",
          "data": {
            "text/plain": [
              "3.0"
            ]
          },
          "metadata": {},
          "execution_count": 58
        }
      ],
      "source": [
        "x = np.arange(3)\n",
        "y = np.ones(3)\n",
        "print(\"x: \", x)\n",
        "print(\"y: \", y)\n",
        "print(x * y)\n",
        "np.sum(x*y)"
      ]
    },
    {
      "cell_type": "markdown",
      "metadata": {
        "id": "YuyGCkRu9Dps"
      },
      "source": [
        "2 more methods"
      ]
    },
    {
      "cell_type": "code",
      "execution_count": null,
      "metadata": {
        "id": "wZ4auZv09Dps"
      },
      "outputs": [],
      "source": [
        "x, y = np.arange(3), np.ones(3)"
      ]
    },
    {
      "cell_type": "code",
      "execution_count": null,
      "metadata": {
        "id": "1diBHJ_q9Dps",
        "outputId": "1430cf48-5ee8-446f-8a16-47167afd74ad",
        "colab": {
          "base_uri": "https://localhost:8080/"
        }
      },
      "outputs": [
        {
          "output_type": "execute_result",
          "data": {
            "text/plain": [
              "3.0"
            ]
          },
          "metadata": {},
          "execution_count": 60
        }
      ],
      "source": [
        "x.dot(y)"
      ]
    },
    {
      "cell_type": "code",
      "execution_count": null,
      "metadata": {
        "id": "Hv2nm35O9Dps",
        "outputId": "df7f3351-708e-4cc6-b984-7b397daf1872",
        "colab": {
          "base_uri": "https://localhost:8080/"
        }
      },
      "outputs": [
        {
          "output_type": "execute_result",
          "data": {
            "text/plain": [
              "3.0"
            ]
          },
          "metadata": {},
          "execution_count": 61
        }
      ],
      "source": [
        "np.dot(x, y)"
      ]
    },
    {
      "cell_type": "markdown",
      "metadata": {
        "id": "h0sJfiOP9Dps"
      },
      "source": [
        "### min, max, argmin, argmax of 1 d array"
      ]
    },
    {
      "cell_type": "markdown",
      "metadata": {
        "id": "BtrL29mg9Dps"
      },
      "source": [
        "min, max"
      ]
    },
    {
      "cell_type": "markdown",
      "metadata": {
        "id": "M5ML-D099Dps"
      },
      "source": [
        "\n",
        "Use np.min, np.max"
      ]
    },
    {
      "cell_type": "code",
      "execution_count": null,
      "metadata": {
        "id": "ztxQxmsz9Dpt",
        "outputId": "6f0c4624-8793-455e-a964-21c5068b3d8e",
        "colab": {
          "base_uri": "https://localhost:8080/"
        }
      },
      "outputs": [
        {
          "output_type": "stream",
          "name": "stdout",
          "text": [
            "[0 1 2 3 4 5 6 7 8 9]\n",
            "[ 0  1  2  3  4  5  6 -2  8  9]\n"
          ]
        },
        {
          "output_type": "execute_result",
          "data": {
            "text/plain": [
              "-2"
            ]
          },
          "metadata": {},
          "execution_count": 62
        }
      ],
      "source": [
        "a = np.arange(10)\n",
        "print(a)\n",
        "a[-3] = -2\n",
        "print(a)\n",
        "np.min(a)"
      ]
    },
    {
      "cell_type": "code",
      "execution_count": null,
      "metadata": {
        "id": "qfLUjTab9Dpt",
        "outputId": "253977ea-a3e1-464a-943b-33df705a3cfa",
        "colab": {
          "base_uri": "https://localhost:8080/"
        }
      },
      "outputs": [
        {
          "output_type": "execute_result",
          "data": {
            "text/plain": [
              "9"
            ]
          },
          "metadata": {},
          "execution_count": 63
        }
      ],
      "source": [
        "a.max()"
      ]
    },
    {
      "cell_type": "code",
      "execution_count": null,
      "metadata": {
        "id": "Rf3r8TPb9Dpt",
        "outputId": "4fe79624-4aad-413b-f6e7-d18fdd3e7be9",
        "colab": {
          "base_uri": "https://localhost:8080/"
        }
      },
      "outputs": [
        {
          "output_type": "execute_result",
          "data": {
            "text/plain": [
              "9"
            ]
          },
          "metadata": {},
          "execution_count": 64
        }
      ],
      "source": [
        "np.max(a)"
      ]
    },
    {
      "cell_type": "code",
      "execution_count": null,
      "metadata": {
        "id": "Dm7FlHMU9Dpt",
        "outputId": "92abb3c1-ec93-4077-efad-387d52a8e429",
        "colab": {
          "base_uri": "https://localhost:8080/"
        }
      },
      "outputs": [
        {
          "output_type": "execute_result",
          "data": {
            "text/plain": [
              "-2"
            ]
          },
          "metadata": {},
          "execution_count": 65
        }
      ],
      "source": [
        "a.min()"
      ]
    },
    {
      "cell_type": "code",
      "execution_count": null,
      "metadata": {
        "id": "GnJYkEek9Dpt",
        "outputId": "a534e67a-1c42-4291-df34-197c950e2a54",
        "colab": {
          "base_uri": "https://localhost:8080/"
        }
      },
      "outputs": [
        {
          "output_type": "execute_result",
          "data": {
            "text/plain": [
              "-2"
            ]
          },
          "metadata": {},
          "execution_count": 66
        }
      ],
      "source": [
        "np.min(a)"
      ]
    },
    {
      "cell_type": "markdown",
      "metadata": {
        "id": "QJ5nDNR19Dpt"
      },
      "source": [
        "argmin, argmax"
      ]
    },
    {
      "cell_type": "markdown",
      "metadata": {
        "id": "-ux7uG_69Dpt"
      },
      "source": [
        "to find index of min or max value:"
      ]
    },
    {
      "cell_type": "code",
      "execution_count": null,
      "metadata": {
        "id": "dQ6tVu_A9Dpt"
      },
      "outputs": [],
      "source": [
        "# import numpy as np"
      ]
    },
    {
      "cell_type": "code",
      "execution_count": null,
      "metadata": {
        "id": "cX9EVtNf9Dpt"
      },
      "outputs": [],
      "source": [
        "# a = np.array([1, 2, 3, 4, 4, 4])\n",
        "# np.argmax(a)"
      ]
    },
    {
      "cell_type": "code",
      "execution_count": null,
      "metadata": {
        "id": "Dtz-PpgS9Dpu",
        "outputId": "61b2b75d-0d77-4c3d-93e1-ac4fedd797c2",
        "colab": {
          "base_uri": "https://localhost:8080/"
        }
      },
      "outputs": [
        {
          "output_type": "execute_result",
          "data": {
            "text/plain": [
              "7"
            ]
          },
          "metadata": {},
          "execution_count": 69
        }
      ],
      "source": [
        "np.argmin(a)"
      ]
    },
    {
      "cell_type": "code",
      "execution_count": null,
      "metadata": {
        "id": "k0P1zIlF9Dpu",
        "outputId": "7bb524f8-3dda-4a16-ac8e-86b991182373",
        "colab": {
          "base_uri": "https://localhost:8080/"
        }
      },
      "outputs": [
        {
          "output_type": "execute_result",
          "data": {
            "text/plain": [
              "-2"
            ]
          },
          "metadata": {},
          "execution_count": 70
        }
      ],
      "source": [
        "a[7]"
      ]
    },
    {
      "cell_type": "code",
      "execution_count": null,
      "metadata": {
        "id": "KCbuKrhU9Dpu",
        "outputId": "fe89439b-fc80-435c-db0b-7f6f0c3d7b18",
        "colab": {
          "base_uri": "https://localhost:8080/"
        }
      },
      "outputs": [
        {
          "output_type": "execute_result",
          "data": {
            "text/plain": [
              "9"
            ]
          },
          "metadata": {},
          "execution_count": 71
        }
      ],
      "source": [
        "np.argmax(a)"
      ]
    },
    {
      "cell_type": "code",
      "execution_count": null,
      "metadata": {
        "id": "h8SGTQnr9Dpu",
        "outputId": "fe2cfe4f-d653-404b-f71f-a196cb8a1267",
        "colab": {
          "base_uri": "https://localhost:8080/"
        }
      },
      "outputs": [
        {
          "output_type": "execute_result",
          "data": {
            "text/plain": [
              "9"
            ]
          },
          "metadata": {},
          "execution_count": 72
        }
      ],
      "source": [
        "a[9]"
      ]
    },
    {
      "cell_type": "code",
      "execution_count": null,
      "metadata": {
        "id": "fmfqXNKm9Dpu",
        "outputId": "5fcd5e6e-3258-46ff-8d90-1152494537b2",
        "colab": {
          "base_uri": "https://localhost:8080/"
        }
      },
      "outputs": [
        {
          "output_type": "execute_result",
          "data": {
            "text/plain": [
              "7"
            ]
          },
          "metadata": {},
          "execution_count": 73
        }
      ],
      "source": [
        "a.argmin()"
      ]
    },
    {
      "cell_type": "code",
      "execution_count": null,
      "metadata": {
        "id": "iCTllZcj9Dpu",
        "outputId": "3eccc177-8134-46a8-e66b-1b1dc68b9fa1",
        "colab": {
          "base_uri": "https://localhost:8080/"
        }
      },
      "outputs": [
        {
          "output_type": "execute_result",
          "data": {
            "text/plain": [
              "9"
            ]
          },
          "metadata": {},
          "execution_count": 74
        }
      ],
      "source": [
        "a.argmax()"
      ]
    },
    {
      "cell_type": "markdown",
      "metadata": {
        "id": "ZcPHg9ul9Dpu"
      },
      "source": [
        "### Norm of Vector"
      ]
    },
    {
      "cell_type": "code",
      "execution_count": null,
      "metadata": {
        "id": "0jPamQWb9Dpu"
      },
      "outputs": [],
      "source": [
        "# oftenly used"
      ]
    },
    {
      "cell_type": "code",
      "execution_count": null,
      "metadata": {
        "id": "RwTNKbMV9Dpu",
        "outputId": "5b25cf4a-ae2e-4a3d-b9ef-5b2399af388f",
        "colab": {
          "base_uri": "https://localhost:8080/"
        }
      },
      "outputs": [
        {
          "output_type": "execute_result",
          "data": {
            "text/plain": [
              "7.416198487095663"
            ]
          },
          "metadata": {},
          "execution_count": 76
        }
      ],
      "source": [
        "import numpy as np\n",
        "x = np.array([1,2,3,4,5])\n",
        "np.linalg.norm(x)"
      ]
    },
    {
      "cell_type": "code",
      "execution_count": null,
      "metadata": {
        "id": "NHPur8Y89Dpu",
        "outputId": "35e1d357-9bd4-4ab0-b79f-5c54bec5b5a5",
        "colab": {
          "base_uri": "https://localhost:8080/"
        }
      },
      "outputs": [
        {
          "output_type": "execute_result",
          "data": {
            "text/plain": [
              "7.416198487095663"
            ]
          },
          "metadata": {},
          "execution_count": 77
        }
      ],
      "source": [
        "mag = np.sqrt(x.dot(x))\n",
        "mag"
      ]
    },
    {
      "cell_type": "code",
      "execution_count": null,
      "metadata": {
        "id": "s_-BuvRt9Dpu"
      },
      "outputs": [],
      "source": [
        ""
      ]
    },
    {
      "cell_type": "markdown",
      "metadata": {
        "id": "QJp3w9Wk9Dpv"
      },
      "source": [
        "## Activation functions\n",
        "Link 1: https://www.analyticsvidhya.com/blog/2020/01/fundamentals-deep-learning-activation-functions-when-to-use-them/\n",
        "\n",
        "Link 2: https://cup-of-char.com/writing-activation-functions-from-mostly-scratch-in-python/"
      ]
    },
    {
      "cell_type": "code",
      "source": [
        "import matplotlib.pyplot as plt"
      ],
      "metadata": {
        "id": "VqFbp0oN9Q9C"
      },
      "execution_count": null,
      "outputs": []
    },
    {
      "cell_type": "markdown",
      "metadata": {
        "id": "g5A70EWW9Dpv"
      },
      "source": [
        "### Sigmoid"
      ]
    },
    {
      "cell_type": "markdown",
      "metadata": {
        "id": "s2vMU5V09Dpv"
      },
      "source": [
        "1/ ( 1 + e^-x)"
      ]
    },
    {
      "cell_type": "code",
      "execution_count": null,
      "metadata": {
        "id": "jFoIR8_o9Dpv"
      },
      "outputs": [],
      "source": [
        "mmatrix= np.array([[1,2,3],[4,5,6]])"
      ]
    },
    {
      "cell_type": "code",
      "execution_count": null,
      "metadata": {
        "id": "xi9k84cR9Dpv",
        "outputId": "1b223fe0-b118-44d2-f1f6-9f1992a81c1b",
        "colab": {
          "base_uri": "https://localhost:8080/"
        }
      },
      "outputs": [
        {
          "output_type": "execute_result",
          "data": {
            "text/plain": [
              "array([[0.73105858, 0.88079708, 0.95257413],\n",
              "       [0.98201379, 0.99330715, 0.99752738]])"
            ]
          },
          "metadata": {},
          "execution_count": 80
        }
      ],
      "source": [
        "#sigmoid function\n",
        "def sigmoid(X):\n",
        "    return 1/(1+np.exp(-X))\n",
        "#Example with mmatrix defined above\n",
        "sigmoid(mmatrix)\n"
      ]
    },
    {
      "cell_type": "code",
      "execution_count": null,
      "metadata": {
        "id": "R0vI2sNn9Dpv",
        "outputId": "ad03d179-cdec-49ac-8e60-85edb3779304",
        "colab": {
          "base_uri": "https://localhost:8080/"
        }
      },
      "outputs": [
        {
          "output_type": "execute_result",
          "data": {
            "text/plain": [
              "0.9525741268224334"
            ]
          },
          "metadata": {},
          "execution_count": 81
        }
      ],
      "source": [
        "sigmoid(3)"
      ]
    },
    {
      "cell_type": "code",
      "execution_count": null,
      "metadata": {
        "id": "r60jfl_I9Dpv",
        "outputId": "6f47426e-b36d-4c7b-9c76-943a31d1d5e4",
        "colab": {
          "base_uri": "https://localhost:8080/"
        }
      },
      "outputs": [
        {
          "output_type": "execute_result",
          "data": {
            "text/plain": [
              "0.8807970779778823"
            ]
          },
          "metadata": {},
          "execution_count": 82
        }
      ],
      "source": [
        "sigmoid(2)"
      ]
    },
    {
      "cell_type": "code",
      "execution_count": null,
      "metadata": {
        "id": "GnGXPCXh9Dpv",
        "outputId": "7460e615-42b4-4f4a-b8dc-5b219d200607",
        "colab": {
          "base_uri": "https://localhost:8080/"
        }
      },
      "outputs": [
        {
          "output_type": "execute_result",
          "data": {
            "text/plain": [
              "0.045176659730912"
            ]
          },
          "metadata": {},
          "execution_count": 83
        }
      ],
      "source": [
        "dev3 = sigmoid(3) * (1 - sigmoid(3))\n",
        "dev3"
      ]
    },
    {
      "cell_type": "code",
      "source": [
        "x = np.arange(-10, 10, 0.1)\n",
        "y = sigmoid(x)\n",
        "plt.plot(x,y)\n",
        "plt.show()"
      ],
      "metadata": {
        "colab": {
          "base_uri": "https://localhost:8080/"
        },
        "id": "KNFcFZ1d--zh",
        "outputId": "d578de6a-cf3b-4cf4-985d-37e90d689e08"
      },
      "execution_count": null,
      "outputs": [
        {
          "output_type": "display_data",
          "data": {
            "text/plain": [
              "<Figure size 432x288 with 1 Axes>"
            ],
            "image/png": "[encoded data removed]"
          },
          "metadata": {
            "needs_background": "light"
          }
        }
      ]
    },
    {
      "cell_type": "markdown",
      "metadata": {
        "id": "89eQr_Y29Dpv"
      },
      "source": [
        "###  Softmax function for 1d array Z"
      ]
    },
    {
      "cell_type": "markdown",
      "metadata": {
        "id": "_RigGUEj9Dpv"
      },
      "source": [
        "$$a_i = \\frac{\\exp(z_i)}{\\sum_{j=0}^{d-1} \\exp(z_j)}$$"
      ]
    },
    {
      "cell_type": "markdown",
      "metadata": {
        "id": "sgVy1jZL9Dpw"
      },
      "source": [
        "with"
      ]
    },
    {
      "cell_type": "markdown",
      "metadata": {
        "id": "MClK1EMo9Dpw"
      },
      "source": [
        "$$\\exp(u) = e^u$$"
      ]
    },
    {
      "cell_type": "markdown",
      "metadata": {
        "id": "HNQQwhND9Dpw"
      },
      "source": [
        "each element of a is between (0, 1), each sum is equal to 1"
      ]
    },
    {
      "cell_type": "markdown",
      "metadata": {
        "id": "hYYAoQ009Dpw"
      },
      "source": [
        "### Softmax"
      ]
    },
    {
      "cell_type": "code",
      "execution_count": null,
      "metadata": {
        "id": "LCr2cHEu9Dpw",
        "outputId": "adbb0fc1-b6da-4438-e0b4-38c4c9027815",
        "colab": {
          "base_uri": "https://localhost:8080/"
        }
      },
      "outputs": [
        {
          "output_type": "stream",
          "name": "stdout",
          "text": [
            "0.09003057317038046 0.6652409557748219 0.24472847105479767\n",
            "1.0\n"
          ]
        }
      ],
      "source": [
        "from math import exp\n",
        "array = [1, 3, 2]\n",
        "# B1: calculate sum: exp(1) + exp(3) + exp(2) \n",
        "# calculate each probability\n",
        "p1 = exp(1) / (exp(1) + exp(3) + exp(2))\n",
        "p2 = exp(3) / (exp(1) + exp(3) + exp(2))\n",
        "p3 = exp(2) / (exp(1) + exp(3) + exp(2))\n",
        "# report probabilities\n",
        "print(p1, p2, p3)\n",
        "# report sum of probabilities\n",
        "print(p1 + p2 + p3)"
      ]
    },
    {
      "cell_type": "code",
      "execution_count": null,
      "metadata": {
        "id": "yI-viFCc9Dpw",
        "outputId": "4634973b-4fc3-4699-d44e-063c457213bf",
        "colab": {
          "base_uri": "https://localhost:8080/"
        }
      },
      "outputs": [
        {
          "output_type": "stream",
          "name": "stdout",
          "text": [
            "[0.09003057 0.66524096 0.24472847]\n",
            "1.0\n"
          ]
        }
      ],
      "source": [
        "# example of a function for calculating softmax for a list of numbers\n",
        "from numpy import exp\n",
        " \n",
        "# calculate the softmax of a vector\n",
        "def softmax(vector):\n",
        "    e = exp(vector)\n",
        "    return e / e.sum()\n",
        " \n",
        "# define data\n",
        "data = [1, 3, 2]\n",
        "# convert list of numbers to a list of probabilities\n",
        "result = softmax(data)\n",
        "# report the probabilities\n",
        "print(result)\n",
        "# report the sum of the probabilities\n",
        "print(sum(result))"
      ]
    },
    {
      "cell_type": "code",
      "execution_count": null,
      "metadata": {
        "id": "VZiTtBnD9Dpw",
        "outputId": "315539ae-e791-4c1d-97bd-97f1cba823a5",
        "colab": {
          "base_uri": "https://localhost:8080/"
        }
      },
      "outputs": [
        {
          "output_type": "stream",
          "name": "stdout",
          "text": [
            "[0.09003057 0.66524096 0.24472847]\n",
            "0.9999999999999997\n"
          ]
        }
      ],
      "source": [
        "from scipy.special import softmax\n",
        "# define data\n",
        "data = [1, 3, 2]\n",
        "# calculate softmax\n",
        "result = softmax(data)\n",
        "# report the probabilities\n",
        "print(result)\n",
        "# report the sum of the probabilities\n",
        "print(sum(result))"
      ]
    },
    {
      "cell_type": "code",
      "source": [
        "x = np.arange(-10, 10, 0.1)\n",
        "y_softmax = softmax(x)\n",
        "plt.plot(x,y_softmax)\n",
        "plt.show()"
      ],
      "metadata": {
        "colab": {
          "base_uri": "https://localhost:8080/",
          "height": 265
        },
        "id": "rHM7iQ5fCSHO",
        "outputId": "c437d705-3ad4-411c-87f0-dd5fd8578d9d"
      },
      "execution_count": null,
      "outputs": [
        {
          "output_type": "display_data",
          "data": {
            "text/plain": [
              "<Figure size 432x288 with 1 Axes>"
            ],
            "image/png": "[encoded data removed]"
          },
          "metadata": {
            "needs_background": "light"
          }
        }
      ]
    },
    {
      "cell_type": "markdown",
      "metadata": {
        "id": "T_9D-_xL9Dpw"
      },
      "source": [
        "### More about Softmax"
      ]
    },
    {
      "cell_type": "code",
      "execution_count": null,
      "metadata": {
        "id": "_sV6DxNf9Dpw"
      },
      "outputs": [],
      "source": [
        "x = np.array([1, 0, 3, 5])"
      ]
    },
    {
      "cell_type": "code",
      "execution_count": null,
      "metadata": {
        "id": "0IAyx_p_9Dpw",
        "outputId": "3ef38e2c-ecbe-436f-d86e-8354251dec56",
        "colab": {
          "base_uri": "https://localhost:8080/"
        }
      },
      "outputs": [
        {
          "output_type": "stream",
          "name": "stdout",
          "text": [
            "1.0\n"
          ]
        },
        {
          "output_type": "execute_result",
          "data": {
            "text/plain": [
              "array([0.01578405, 0.00580663, 0.11662925, 0.86178007])"
            ]
          },
          "metadata": {},
          "execution_count": 90
        }
      ],
      "source": [
        "import numpy as np\n",
        "\n",
        "def softmax1(x):\n",
        "    \"\"\" applies softmax to an input x\"\"\"\n",
        "    e_x = np.exp(x)\n",
        "    return e_x / e_x.sum()\n",
        "\n",
        "\n",
        "y = softmax1(x)\n",
        "y, x / x.sum()\n",
        "x / x.sum()\n",
        "print(np.sum(softmax1(x)))\n",
        "softmax1(x)"
      ]
    },
    {
      "cell_type": "code",
      "execution_count": null,
      "metadata": {
        "id": "jqdebZV39Dpx",
        "outputId": "9cbeb255-846a-4c4e-bc4a-b56592437955",
        "colab": {
          "base_uri": "https://localhost:8080/"
        }
      },
      "outputs": [
        {
          "output_type": "execute_result",
          "data": {
            "text/plain": [
              "array([0.01578405, 0.00580663, 0.11662925, 0.86178007])"
            ]
          },
          "metadata": {},
          "execution_count": 91
        }
      ],
      "source": [
        "# Prove this equation \n",
        "import numpy as np\n",
        "\n",
        "def softmax2(x):\n",
        "    \"\"\" applies softmax to an input x\"\"\"\n",
        "    e_x = np.exp(x - np.max(x))\n",
        "    return e_x / e_x.sum()\n",
        "\n",
        "softmax2(x)"
      ]
    },
    {
      "cell_type": "markdown",
      "source": [
        "Prove \n",
        "\n",
        "$\n",
        "\\begin{align}\n",
        "f2(x) & = \\frac{e^{x - max(x)}}{\\sum{e^{x - max(x)}}} \\\\\n",
        "& = \\frac{e^{x} e^{- max(x)}}{\\sum{e^{x} e^{- max(x)}}} \\\\\n",
        "& = \\frac{e^{- max(x)}e^{x}}{e^{- max(x)}\\sum{e^{x}}} \\\\\n",
        "& = \\frac{e^{x}}{\\sum{e^{x}}} \\\\\n",
        "& = f(x) \\\\\n",
        "\\end{align}\n",
        "$"
      ],
      "metadata": {
        "id": "m-9ngRIyG-dc"
      }
    },
    {
      "cell_type": "markdown",
      "metadata": {
        "id": "116T-Ft59Dpx"
      },
      "source": [
        "### ReLu"
      ]
    },
    {
      "cell_type": "code",
      "execution_count": null,
      "metadata": {
        "id": "Zs-uDNsH9Dpx",
        "outputId": "15d014b4-a6be-4f00-ae00-b6b0c6ec29e5",
        "colab": {
          "base_uri": "https://localhost:8080/"
        }
      },
      "outputs": [
        {
          "output_type": "execute_result",
          "data": {
            "text/plain": [
              "array([[1, 2, 3],\n",
              "       [4, 5, 6]])"
            ]
          },
          "metadata": {},
          "execution_count": 92
        }
      ],
      "source": [
        "#ReLu function\n",
        "def relu(X):\n",
        "    return np.maximum(0,X)\n",
        "#Example with mmatrix defined above\n",
        "relu(mmatrix)"
      ]
    },
    {
      "cell_type": "markdown",
      "metadata": {
        "id": "STn1VcLv9Dpx"
      },
      "source": [
        "#### For more references"
      ]
    },
    {
      "cell_type": "code",
      "execution_count": null,
      "metadata": {
        "id": "3qFfKEEC9Dpx"
      },
      "outputs": [],
      "source": [
        "import numpy as np\n",
        "\n",
        "try:\n",
        "    # PYPY hasn't got scipy\n",
        "    from scipy.special import expit\n",
        "except:\n",
        "    expit = lambda x: 1.0 / (1 + np.exp(-x))\n",
        "\n",
        "\n",
        "def softmax_function( signal, derivative=False ):\n",
        "    # Calculate activation signal\n",
        "    e_x = np.exp( signal - np.max(signal, axis=1, keepdims = True) )\n",
        "    signal = e_x / np.sum( e_x, axis = 1, keepdims = True )\n",
        "    \n",
        "    if derivative:\n",
        "        return np.ones( signal.shape )\n",
        "    else:\n",
        "        # Return the activation signal\n",
        "        return signal\n",
        "#end activation function\n",
        "\n",
        "\n",
        "def sigmoid_function( signal, derivative=False ):\n",
        "    # Prevent overflow.\n",
        "    signal = np.clip( signal, -500, 500 )\n",
        "    \n",
        "    # Calculate activation signal\n",
        "    signal = expit( signal )\n",
        "    \n",
        "    if derivative:\n",
        "        # Return the partial derivation of the activation function\n",
        "        return np.multiply(signal, 1 - signal)\n",
        "    else:\n",
        "        # Return the activation signal\n",
        "        return signal\n",
        "#end activation function\n",
        "\n",
        "\n",
        "def elliot_function( signal, derivative=False ):\n",
        "    \"\"\" A fast approximation of sigmoid \"\"\"\n",
        "    s = 1 # steepness\n",
        "    \n",
        "    abs_signal = (1 + np.abs(signal * s))\n",
        "    if derivative:\n",
        "        return 0.5 * s / abs_signal**2\n",
        "    else:\n",
        "        # Return the activation signal\n",
        "        return 0.5*(signal * s) / abs_signal + 0.5\n",
        "#end activation function\n",
        "\n",
        "\n",
        "def symmetric_elliot_function( signal, derivative=False ):\n",
        "    \"\"\" A fast approximation of tanh \"\"\"\n",
        "    s = 1.0 # steepness\n",
        "    \n",
        "    abs_signal = (1 + np.abs(signal * s))\n",
        "    if derivative:\n",
        "        return s / abs_signal**2\n",
        "    else:\n",
        "        # Return the activation signal\n",
        "        return (signal * s) / abs_signal\n",
        "#end activation function\n",
        "\n",
        "\n",
        "def ReLU_function( signal, derivative=False ):\n",
        "    if derivative:\n",
        "        return (signal > 0).astype(float)\n",
        "    else:\n",
        "        # Return the activation signal\n",
        "        return np.maximum( 0, signal )\n",
        "#end activation function\n",
        "\n",
        "\n",
        "def LReLU_function( signal, derivative=False, leakage = 0.01 ):\n",
        "    \"\"\"\n",
        "    Leaky Rectified Linear Unit\n",
        "    \"\"\"\n",
        "    if derivative:\n",
        "        # Return the partial derivation of the activation function\n",
        "        return np.clip(signal > 0, leakage, 1.0)\n",
        "    else:\n",
        "        # Return the activation signal\n",
        "        output = np.copy( signal )\n",
        "        output[ output < 0 ] *= leakage\n",
        "        return output\n",
        "#end activation function\n",
        "\n",
        "\n",
        "def tanh_function( signal, derivative=False ):\n",
        "    # Calculate activation signal\n",
        "    signal = np.tanh( signal )\n",
        "    \n",
        "    if derivative:\n",
        "        # Return the partial derivation of the activation function\n",
        "        return 1-np.power(signal,2)\n",
        "    else:\n",
        "        # Return the activation signal\n",
        "        return signal\n",
        "#end activation function\n",
        "\n",
        "\n",
        "def linear_function( signal, derivative=False ):\n",
        "    if derivative:\n",
        "        # Return the partial derivation of the activation function\n",
        "        return np.ones( signal.shape )\n",
        "    else:\n",
        "        # Return the activation signal\n",
        "        return signal\n",
        "#end activation function\n",
        "\n",
        "\n",
        "def softplus_function( signal, derivative=False ):\n",
        "    if derivative:\n",
        "        # Return the partial derivation of the activation function\n",
        "        return np.exp(signal) / (1 + np.exp(signal))\n",
        "    else:\n",
        "        # Return the activation signal\n",
        "        return np.log(1 + np.exp(signal))\n",
        "#end activation function\n",
        "\n",
        "\n",
        "def softsign_function( signal, derivative=False ):\n",
        "    if derivative:\n",
        "        # Return the partial derivation of the activation function\n",
        "        return 1. / (1 + np.abs(signal))**2\n",
        "    else:\n",
        "        # Return the activation signal\n",
        "        return signal / (1 + np.abs(signal))\n",
        "#end activation function"
      ]
    },
    {
      "cell_type": "code",
      "source": [
        "arr = np.array([np.arange(0, 3)])"
      ],
      "metadata": {
        "id": "9t0DT3ugSX3C"
      },
      "execution_count": 116,
      "outputs": []
    },
    {
      "cell_type": "code",
      "source": [
        "plt.plot(arr[0], softmax_function(arr, True)[0], label='dsoftmax')\n",
        "plt.plot(arr[0], softmax_function(arr)[0], label='softmax')\n",
        "plt.legend()\n",
        "plt.show()"
      ],
      "metadata": {
        "colab": {
          "base_uri": "https://localhost:8080/",
          "height": 265
        },
        "id": "fZCkJO1eEWyL",
        "outputId": "adbf83a3-4522-4948-d049-1d1f7b05ac37"
      },
      "execution_count": 117,
      "outputs": [
        {
          "output_type": "display_data",
          "data": {
            "text/plain": [
              "<Figure size 432x288 with 1 Axes>"
            ],
            "image/png": "[encoded data removed]"
          },
          "metadata": {
            "needs_background": "light"
          }
        }
      ]
    },
    {
      "cell_type": "code",
      "source": [
        "def plot(func):\n",
        "  plt.plot(arr, func(arr), label=func.__name__)\n",
        "\n",
        "plot(ReLU_function)\n",
        "# plot(softmax_function)\n",
        "plot(sigmoid_function)\n",
        "plot(elliot_function)\n",
        "plot(linear_function)\n",
        "\n",
        "plt.legend()\n",
        "plt.show()"
      ],
      "metadata": {
        "colab": {
          "base_uri": "https://localhost:8080/",
          "height": 265
        },
        "id": "ramQBwTYSoOQ",
        "outputId": "f26f5426-77af-46bc-87ea-3c5f3e50736d"
      },
      "execution_count": null,
      "outputs": [
        {
          "output_type": "display_data",
          "data": {
            "text/plain": [
              "<Figure size 432x288 with 1 Axes>"
            ],
            "image/png": "[encoded data removed]"
          },
          "metadata": {
            "needs_background": "light"
          }
        }
      ]
    }
  ],
  "metadata": {
    "kernelspec": {
      "display_name": "Python 3",
      "language": "python",
      "name": "python3"
    },
    "language_info": {
      "codemirror_mode": {
        "name": "ipython",
        "version": 3
      },
      "file_extension": ".py",
      "mimetype": "text/x-python",
      "name": "python",
      "nbconvert_exporter": "python",
      "pygments_lexer": "ipython3",
      "version": "3.6.7"
    },
    "colab": {
      "name": "Numpy_1_Activation functions.ipynb",
      "provenance": [],
      "collapsed_sections": [
        "m3WjuBRj9Dpk",
        "6c-BNfZ09Dpm",
        "vw07Wedt9Dpn",
        "LLTai2X59Dpo",
        "WnsJImdU9Dpo",
        "Gmiue8aC9Dpp",
        "SwkNZjUq9Dpp",
        "TGFV8dpr9Dpq",
        "6E8g2aCc9Dpr",
        "0Xa-turn9Dpr",
        "aB-VRezD9Dpr",
        "2SvFGkhO9Dps",
        "h0sJfiOP9Dps",
        "ZcPHg9ul9Dpu",
        "g5A70EWW9Dpv",
        "89eQr_Y29Dpv",
        "hYYAoQ009Dpw",
        "116T-Ft59Dpx",
        "STn1VcLv9Dpx"
      ],
      "include_colab_link": true
    }
  },
  "nbformat": 4,
  "nbformat_minor": 0
}